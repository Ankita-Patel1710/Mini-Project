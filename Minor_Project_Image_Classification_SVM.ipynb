{
  "nbformat": 4,
  "nbformat_minor": 0,
  "metadata": {
    "colab": {
      "name": "Minor Project - Image Classification - SVM.ipynb",
      "provenance": [],
      "collapsed_sections": [],
      "mount_file_id": "1NTPEWza5O5XaGB5JlqvtGxvnCqAUktSE",
      "authorship_tag": "ABX9TyPQok7mMhJAKcoTTQBLDltj",
      "include_colab_link": true
    },
    "kernelspec": {
      "name": "python3",
      "display_name": "Python 3"
    },
    "language_info": {
      "name": "python"
    }
  },
  "cells": [
    {
      "cell_type": "markdown",
      "metadata": {
        "id": "view-in-github",
        "colab_type": "text"
      },
      "source": [
        "<a href=\"https://colab.research.google.com/github/Ankita-Patel1710/Mini-Project/blob/main/Minor_Project_Image_Classification_SVM.ipynb\" target=\"_parent\"><img src=\"https://colab.research.google.com/assets/colab-badge.svg\" alt=\"Open In Colab\"/></a>"
      ]
    },
    {
      "cell_type": "code",
      "metadata": {
        "id": "Drg07E70Pr6n"
      },
      "source": [
        "import pandas as pd\n",
        "import matplotlib.pyplot as plt\n",
        "from skimage.io import imread\n",
        "from skimage.transform import resize"
      ],
      "execution_count": 5,
      "outputs": []
    },
    {
      "cell_type": "markdown",
      "metadata": {
        "id": "YWkBSXyMV8H2"
      },
      "source": [
        "### **1. Data is gathered in 2 categories namely: Fans and Birds**"
      ]
    },
    {
      "cell_type": "code",
      "metadata": {
        "colab": {
          "base_uri": "https://localhost:8080/",
          "height": 286
        },
        "id": "FYpA3_eXQHYq",
        "outputId": "e6614c6f-8330-4662-ed32-90b4aef69a39"
      },
      "source": [
        "# displaying an image from the dataset\n",
        "\n",
        "# reference path : /content/drive/MyDrive/datasets/mini project\n",
        "\n",
        "img = imread('/content/drive/MyDrive/datasets/mini project/fans/Crompton High Speed Whirlwind Gale 400mm Pedestal Fan White RedA.jpg')\n",
        "plt.imshow(img)"
      ],
      "execution_count": 6,
      "outputs": [
        {
          "output_type": "execute_result",
          "data": {
            "text/plain": [
              "<matplotlib.image.AxesImage at 0x7effdbf15850>"
            ]
          },
          "metadata": {
            "tags": []
          },
          "execution_count": 6
        },
        {
          "output_type": "display_data",
          "data": {
            "image/png": "[encoded data removed]",
            "text/plain": [
              "<Figure size 432x288 with 1 Axes>"
            ]
          },
          "metadata": {
            "tags": [],
            "needs_background": "light"
          }
        }
      ]
    },
    {
      "cell_type": "markdown",
      "metadata": {
        "id": "cYBWJ6X3W7x2"
      },
      "source": [
        "### **2. Preprocessing the data**\n",
        "- Resized\n",
        "- Converted from rgb to grayscale\n",
        "- Flattened"
      ]
    },
    {
      "cell_type": "code",
      "metadata": {
        "id": "HhvqHEQJQWSE"
      },
      "source": [
        "import os \n",
        "import numpy as np\n",
        "from skimage.color import rgb2grey\n",
        "\n",
        "datadir = '/content/drive/MyDrive/datasets/mini project' #the main directory which contains all the datasets\n",
        "categories = ['birds','fans'] #a list containing the names of all the categories in the datasets folder\n",
        "\n",
        "target = []\n",
        "flat_data = []\n",
        "\n",
        "for i in categories:\n",
        "  path = os.path.join(datadir,i) \n",
        "  for img in os.listdir(path):\n",
        "    \n",
        "    img_array = imread(os.path.join(path,img))\n",
        "    \n",
        "    img_resize = resize(img_array, (150,150,3)) # all the images are resized\n",
        "    gray_img_resize = rgb2grey(img_resize)\n",
        "    \n",
        "    flat_data.append(np.ndarray.flatten(gray_img_resize)) # all the resized images are flattened\n",
        "    target.append(i)\n",
        "\n",
        "flat_data = np.array(flat_data) # this flattened data will be the x value\n",
        "target = np.array(target) # target(category) will be the y value"
      ],
      "execution_count": 7,
      "outputs": []
    },
    {
      "cell_type": "code",
      "metadata": {
        "colab": {
          "base_uri": "https://localhost:8080/",
          "height": 244
        },
        "id": "aT8k_kDCQcFz",
        "outputId": "5c99a8c0-c93b-4759-ed7c-dd4e1ce571f4"
      },
      "source": [
        "# Making the data frame from the flattened values\n",
        "\n",
        "df = pd.DataFrame(flat_data)\n",
        "df['Target'] = target\n",
        "df.head()"
      ],
      "execution_count": 8,
      "outputs": [
        {
          "output_type": "execute_result",
          "data": {
            "text/html": [
              "<div>\n",
              "<style scoped>\n",
              "    .dataframe tbody tr th:only-of-type {\n",
              "        vertical-align: middle;\n",
              "    }\n",
              "\n",
              "    .dataframe tbody tr th {\n",
              "        vertical-align: top;\n",
              "    }\n",
              "\n",
              "    .dataframe thead th {\n",
              "        text-align: right;\n",
              "    }\n",
              "</style>\n",
              "<table border=\"1\" class=\"dataframe\">\n",
              "  <thead>\n",
              "    <tr style=\"text-align: right;\">\n",
              "      <th></th>\n",
              "      <th>0</th>\n",
              "      <th>1</th>\n",
              "      <th>2</th>\n",
              "      <th>3</th>\n",
              "      <th>4</th>\n",
              "      <th>5</th>\n",
              "      <th>6</th>\n",
              "      <th>7</th>\n",
              "      <th>8</th>\n",
              "      <th>9</th>\n",
              "      <th>10</th>\n",
              "      <th>11</th>\n",
              "      <th>12</th>\n",
              "      <th>13</th>\n",
              "      <th>14</th>\n",
              "      <th>15</th>\n",
              "      <th>16</th>\n",
              "      <th>17</th>\n",
              "      <th>18</th>\n",
              "      <th>19</th>\n",
              "      <th>20</th>\n",
              "      <th>21</th>\n",
              "      <th>22</th>\n",
              "      <th>23</th>\n",
              "      <th>24</th>\n",
              "      <th>25</th>\n",
              "      <th>26</th>\n",
              "      <th>27</th>\n",
              "      <th>28</th>\n",
              "      <th>29</th>\n",
              "      <th>30</th>\n",
              "      <th>31</th>\n",
              "      <th>32</th>\n",
              "      <th>33</th>\n",
              "      <th>34</th>\n",
              "      <th>35</th>\n",
              "      <th>36</th>\n",
              "      <th>37</th>\n",
              "      <th>38</th>\n",
              "      <th>39</th>\n",
              "      <th>...</th>\n",
              "      <th>22461</th>\n",
              "      <th>22462</th>\n",
              "      <th>22463</th>\n",
              "      <th>22464</th>\n",
              "      <th>22465</th>\n",
              "      <th>22466</th>\n",
              "      <th>22467</th>\n",
              "      <th>22468</th>\n",
              "      <th>22469</th>\n",
              "      <th>22470</th>\n",
              "      <th>22471</th>\n",
              "      <th>22472</th>\n",
              "      <th>22473</th>\n",
              "      <th>22474</th>\n",
              "      <th>22475</th>\n",
              "      <th>22476</th>\n",
              "      <th>22477</th>\n",
              "      <th>22478</th>\n",
              "      <th>22479</th>\n",
              "      <th>22480</th>\n",
              "      <th>22481</th>\n",
              "      <th>22482</th>\n",
              "      <th>22483</th>\n",
              "      <th>22484</th>\n",
              "      <th>22485</th>\n",
              "      <th>22486</th>\n",
              "      <th>22487</th>\n",
              "      <th>22488</th>\n",
              "      <th>22489</th>\n",
              "      <th>22490</th>\n",
              "      <th>22491</th>\n",
              "      <th>22492</th>\n",
              "      <th>22493</th>\n",
              "      <th>22494</th>\n",
              "      <th>22495</th>\n",
              "      <th>22496</th>\n",
              "      <th>22497</th>\n",
              "      <th>22498</th>\n",
              "      <th>22499</th>\n",
              "      <th>Target</th>\n",
              "    </tr>\n",
              "  </thead>\n",
              "  <tbody>\n",
              "    <tr>\n",
              "      <th>0</th>\n",
              "      <td>0.569906</td>\n",
              "      <td>0.572995</td>\n",
              "      <td>0.570772</td>\n",
              "      <td>0.569073</td>\n",
              "      <td>0.569906</td>\n",
              "      <td>0.564013</td>\n",
              "      <td>0.563179</td>\n",
              "      <td>0.562346</td>\n",
              "      <td>0.562063</td>\n",
              "      <td>0.559258</td>\n",
              "      <td>0.557806</td>\n",
              "      <td>0.562063</td>\n",
              "      <td>0.561230</td>\n",
              "      <td>0.565151</td>\n",
              "      <td>0.565151</td>\n",
              "      <td>0.565151</td>\n",
              "      <td>0.565151</td>\n",
              "      <td>0.561230</td>\n",
              "      <td>0.565151</td>\n",
              "      <td>0.567951</td>\n",
              "      <td>0.571534</td>\n",
              "      <td>0.570395</td>\n",
              "      <td>0.575777</td>\n",
              "      <td>0.572689</td>\n",
              "      <td>0.576916</td>\n",
              "      <td>0.576916</td>\n",
              "      <td>0.576916</td>\n",
              "      <td>0.576916</td>\n",
              "      <td>0.576916</td>\n",
              "      <td>0.576916</td>\n",
              "      <td>0.576916</td>\n",
              "      <td>0.572995</td>\n",
              "      <td>0.569073</td>\n",
              "      <td>0.569073</td>\n",
              "      <td>0.565151</td>\n",
              "      <td>0.565151</td>\n",
              "      <td>0.561230</td>\n",
              "      <td>0.559269</td>\n",
              "      <td>0.553387</td>\n",
              "      <td>0.553387</td>\n",
              "      <td>...</td>\n",
              "      <td>0.064044</td>\n",
              "      <td>0.038420</td>\n",
              "      <td>0.025805</td>\n",
              "      <td>0.030145</td>\n",
              "      <td>0.036807</td>\n",
              "      <td>0.038400</td>\n",
              "      <td>0.032764</td>\n",
              "      <td>0.033047</td>\n",
              "      <td>0.036969</td>\n",
              "      <td>0.029125</td>\n",
              "      <td>0.025204</td>\n",
              "      <td>0.021282</td>\n",
              "      <td>0.021282</td>\n",
              "      <td>0.013722</td>\n",
              "      <td>0.021356</td>\n",
              "      <td>0.021292</td>\n",
              "      <td>0.017361</td>\n",
              "      <td>0.021213</td>\n",
              "      <td>0.021282</td>\n",
              "      <td>0.021282</td>\n",
              "      <td>0.016415</td>\n",
              "      <td>0.010204</td>\n",
              "      <td>0.017361</td>\n",
              "      <td>0.017361</td>\n",
              "      <td>0.017361</td>\n",
              "      <td>0.017361</td>\n",
              "      <td>0.017361</td>\n",
              "      <td>0.018347</td>\n",
              "      <td>0.029142</td>\n",
              "      <td>0.034067</td>\n",
              "      <td>0.034067</td>\n",
              "      <td>0.041116</td>\n",
              "      <td>0.065884</td>\n",
              "      <td>0.069882</td>\n",
              "      <td>0.086071</td>\n",
              "      <td>0.087004</td>\n",
              "      <td>0.079272</td>\n",
              "      <td>0.064765</td>\n",
              "      <td>0.095171</td>\n",
              "      <td>birds</td>\n",
              "    </tr>\n",
              "    <tr>\n",
              "      <th>1</th>\n",
              "      <td>0.395459</td>\n",
              "      <td>0.394831</td>\n",
              "      <td>0.397971</td>\n",
              "      <td>0.398475</td>\n",
              "      <td>0.402305</td>\n",
              "      <td>0.397056</td>\n",
              "      <td>0.399943</td>\n",
              "      <td>0.398420</td>\n",
              "      <td>0.400965</td>\n",
              "      <td>0.397806</td>\n",
              "      <td>0.398279</td>\n",
              "      <td>0.399596</td>\n",
              "      <td>0.406421</td>\n",
              "      <td>0.405067</td>\n",
              "      <td>0.397882</td>\n",
              "      <td>0.395000</td>\n",
              "      <td>0.394290</td>\n",
              "      <td>0.400042</td>\n",
              "      <td>0.403473</td>\n",
              "      <td>0.391877</td>\n",
              "      <td>0.391728</td>\n",
              "      <td>0.397367</td>\n",
              "      <td>0.405705</td>\n",
              "      <td>0.407971</td>\n",
              "      <td>0.400367</td>\n",
              "      <td>0.400743</td>\n",
              "      <td>0.399032</td>\n",
              "      <td>0.396153</td>\n",
              "      <td>0.391362</td>\n",
              "      <td>0.389375</td>\n",
              "      <td>0.391492</td>\n",
              "      <td>0.387693</td>\n",
              "      <td>0.384367</td>\n",
              "      <td>0.377197</td>\n",
              "      <td>0.381603</td>\n",
              "      <td>0.375484</td>\n",
              "      <td>0.374322</td>\n",
              "      <td>0.379207</td>\n",
              "      <td>0.371085</td>\n",
              "      <td>0.369322</td>\n",
              "      <td>...</td>\n",
              "      <td>0.835165</td>\n",
              "      <td>0.976738</td>\n",
              "      <td>0.971820</td>\n",
              "      <td>0.964140</td>\n",
              "      <td>0.961709</td>\n",
              "      <td>0.956297</td>\n",
              "      <td>0.952376</td>\n",
              "      <td>0.948454</td>\n",
              "      <td>0.940611</td>\n",
              "      <td>0.936689</td>\n",
              "      <td>0.932984</td>\n",
              "      <td>0.928788</td>\n",
              "      <td>0.921836</td>\n",
              "      <td>0.921003</td>\n",
              "      <td>0.915180</td>\n",
              "      <td>0.913160</td>\n",
              "      <td>0.909238</td>\n",
              "      <td>0.901395</td>\n",
              "      <td>0.897756</td>\n",
              "      <td>0.894385</td>\n",
              "      <td>0.890675</td>\n",
              "      <td>0.889768</td>\n",
              "      <td>0.890464</td>\n",
              "      <td>0.890464</td>\n",
              "      <td>0.882621</td>\n",
              "      <td>0.883794</td>\n",
              "      <td>0.885798</td>\n",
              "      <td>0.886542</td>\n",
              "      <td>0.883329</td>\n",
              "      <td>0.875879</td>\n",
              "      <td>0.870291</td>\n",
              "      <td>0.870291</td>\n",
              "      <td>0.866369</td>\n",
              "      <td>0.862447</td>\n",
              "      <td>0.857345</td>\n",
              "      <td>0.855953</td>\n",
              "      <td>0.854887</td>\n",
              "      <td>0.852293</td>\n",
              "      <td>0.850377</td>\n",
              "      <td>birds</td>\n",
              "    </tr>\n",
              "    <tr>\n",
              "      <th>2</th>\n",
              "      <td>0.306123</td>\n",
              "      <td>0.305052</td>\n",
              "      <td>0.305007</td>\n",
              "      <td>0.305007</td>\n",
              "      <td>0.307954</td>\n",
              "      <td>0.311192</td>\n",
              "      <td>0.315457</td>\n",
              "      <td>0.320841</td>\n",
              "      <td>0.324461</td>\n",
              "      <td>0.330159</td>\n",
              "      <td>0.335586</td>\n",
              "      <td>0.342619</td>\n",
              "      <td>0.348862</td>\n",
              "      <td>0.354598</td>\n",
              "      <td>0.359225</td>\n",
              "      <td>0.364214</td>\n",
              "      <td>0.368873</td>\n",
              "      <td>0.372591</td>\n",
              "      <td>0.376047</td>\n",
              "      <td>0.378558</td>\n",
              "      <td>0.379572</td>\n",
              "      <td>0.382197</td>\n",
              "      <td>0.381914</td>\n",
              "      <td>0.384391</td>\n",
              "      <td>0.388365</td>\n",
              "      <td>0.392548</td>\n",
              "      <td>0.397020</td>\n",
              "      <td>0.402217</td>\n",
              "      <td>0.410194</td>\n",
              "      <td>0.418551</td>\n",
              "      <td>0.426452</td>\n",
              "      <td>0.436443</td>\n",
              "      <td>0.446535</td>\n",
              "      <td>0.454406</td>\n",
              "      <td>0.462478</td>\n",
              "      <td>0.470547</td>\n",
              "      <td>0.477315</td>\n",
              "      <td>0.479514</td>\n",
              "      <td>0.480875</td>\n",
              "      <td>0.483655</td>\n",
              "      <td>...</td>\n",
              "      <td>0.172688</td>\n",
              "      <td>0.219780</td>\n",
              "      <td>0.221931</td>\n",
              "      <td>0.144535</td>\n",
              "      <td>0.287086</td>\n",
              "      <td>0.208087</td>\n",
              "      <td>0.347917</td>\n",
              "      <td>0.437620</td>\n",
              "      <td>0.427719</td>\n",
              "      <td>0.437452</td>\n",
              "      <td>0.452961</td>\n",
              "      <td>0.453980</td>\n",
              "      <td>0.453777</td>\n",
              "      <td>0.453265</td>\n",
              "      <td>0.450757</td>\n",
              "      <td>0.450771</td>\n",
              "      <td>0.448817</td>\n",
              "      <td>0.446561</td>\n",
              "      <td>0.443648</td>\n",
              "      <td>0.439532</td>\n",
              "      <td>0.434062</td>\n",
              "      <td>0.421493</td>\n",
              "      <td>0.431698</td>\n",
              "      <td>0.399177</td>\n",
              "      <td>0.390794</td>\n",
              "      <td>0.381261</td>\n",
              "      <td>0.370859</td>\n",
              "      <td>0.343026</td>\n",
              "      <td>0.293567</td>\n",
              "      <td>0.238675</td>\n",
              "      <td>0.201317</td>\n",
              "      <td>0.193467</td>\n",
              "      <td>0.221804</td>\n",
              "      <td>0.466459</td>\n",
              "      <td>0.423869</td>\n",
              "      <td>0.226782</td>\n",
              "      <td>0.315393</td>\n",
              "      <td>0.367637</td>\n",
              "      <td>0.371525</td>\n",
              "      <td>birds</td>\n",
              "    </tr>\n",
              "    <tr>\n",
              "      <th>3</th>\n",
              "      <td>0.239297</td>\n",
              "      <td>0.242725</td>\n",
              "      <td>0.243127</td>\n",
              "      <td>0.242356</td>\n",
              "      <td>0.240564</td>\n",
              "      <td>0.235988</td>\n",
              "      <td>0.230524</td>\n",
              "      <td>0.225530</td>\n",
              "      <td>0.225970</td>\n",
              "      <td>0.227294</td>\n",
              "      <td>0.228416</td>\n",
              "      <td>0.234863</td>\n",
              "      <td>0.238204</td>\n",
              "      <td>0.241394</td>\n",
              "      <td>0.241928</td>\n",
              "      <td>0.245885</td>\n",
              "      <td>0.251976</td>\n",
              "      <td>0.254066</td>\n",
              "      <td>0.257795</td>\n",
              "      <td>0.262006</td>\n",
              "      <td>0.268848</td>\n",
              "      <td>0.272946</td>\n",
              "      <td>0.273821</td>\n",
              "      <td>0.302672</td>\n",
              "      <td>0.368143</td>\n",
              "      <td>0.423559</td>\n",
              "      <td>0.454945</td>\n",
              "      <td>0.477335</td>\n",
              "      <td>0.449098</td>\n",
              "      <td>0.365962</td>\n",
              "      <td>0.280660</td>\n",
              "      <td>0.225400</td>\n",
              "      <td>0.242334</td>\n",
              "      <td>0.279875</td>\n",
              "      <td>0.284220</td>\n",
              "      <td>0.284548</td>\n",
              "      <td>0.287194</td>\n",
              "      <td>0.288380</td>\n",
              "      <td>0.291760</td>\n",
              "      <td>0.293202</td>\n",
              "      <td>...</td>\n",
              "      <td>0.295350</td>\n",
              "      <td>0.292697</td>\n",
              "      <td>0.292523</td>\n",
              "      <td>0.290331</td>\n",
              "      <td>0.288775</td>\n",
              "      <td>0.285664</td>\n",
              "      <td>0.286121</td>\n",
              "      <td>0.225055</td>\n",
              "      <td>0.112584</td>\n",
              "      <td>0.050840</td>\n",
              "      <td>0.075557</td>\n",
              "      <td>0.088893</td>\n",
              "      <td>0.144117</td>\n",
              "      <td>0.231957</td>\n",
              "      <td>0.309222</td>\n",
              "      <td>0.446246</td>\n",
              "      <td>0.313795</td>\n",
              "      <td>0.391086</td>\n",
              "      <td>0.300345</td>\n",
              "      <td>0.309304</td>\n",
              "      <td>0.209475</td>\n",
              "      <td>0.241611</td>\n",
              "      <td>0.215027</td>\n",
              "      <td>0.545372</td>\n",
              "      <td>0.759562</td>\n",
              "      <td>0.732171</td>\n",
              "      <td>0.664197</td>\n",
              "      <td>0.503560</td>\n",
              "      <td>0.497644</td>\n",
              "      <td>0.537691</td>\n",
              "      <td>0.492218</td>\n",
              "      <td>0.546257</td>\n",
              "      <td>0.505392</td>\n",
              "      <td>0.611591</td>\n",
              "      <td>0.637230</td>\n",
              "      <td>0.717160</td>\n",
              "      <td>0.499593</td>\n",
              "      <td>0.278451</td>\n",
              "      <td>0.259563</td>\n",
              "      <td>birds</td>\n",
              "    </tr>\n",
              "    <tr>\n",
              "      <th>4</th>\n",
              "      <td>0.344216</td>\n",
              "      <td>0.348138</td>\n",
              "      <td>0.351153</td>\n",
              "      <td>0.353741</td>\n",
              "      <td>0.356190</td>\n",
              "      <td>0.358228</td>\n",
              "      <td>0.358228</td>\n",
              "      <td>0.363278</td>\n",
              "      <td>0.370095</td>\n",
              "      <td>0.376423</td>\n",
              "      <td>0.383156</td>\n",
              "      <td>0.390999</td>\n",
              "      <td>0.401648</td>\n",
              "      <td>0.409261</td>\n",
              "      <td>0.420008</td>\n",
              "      <td>0.432060</td>\n",
              "      <td>0.444112</td>\n",
              "      <td>0.456644</td>\n",
              "      <td>0.471666</td>\n",
              "      <td>0.489046</td>\n",
              "      <td>0.508654</td>\n",
              "      <td>0.526213</td>\n",
              "      <td>0.541281</td>\n",
              "      <td>0.553704</td>\n",
              "      <td>0.561607</td>\n",
              "      <td>0.569450</td>\n",
              "      <td>0.574946</td>\n",
              "      <td>0.584035</td>\n",
              "      <td>0.588890</td>\n",
              "      <td>0.595800</td>\n",
              "      <td>0.601057</td>\n",
              "      <td>0.606999</td>\n",
              "      <td>0.611116</td>\n",
              "      <td>0.618926</td>\n",
              "      <td>0.623251</td>\n",
              "      <td>0.623251</td>\n",
              "      <td>0.627172</td>\n",
              "      <td>0.627172</td>\n",
              "      <td>0.630737</td>\n",
              "      <td>0.629955</td>\n",
              "      <td>...</td>\n",
              "      <td>0.528530</td>\n",
              "      <td>0.528963</td>\n",
              "      <td>0.531886</td>\n",
              "      <td>0.533348</td>\n",
              "      <td>0.534669</td>\n",
              "      <td>0.534440</td>\n",
              "      <td>0.534386</td>\n",
              "      <td>0.529065</td>\n",
              "      <td>0.524796</td>\n",
              "      <td>0.516850</td>\n",
              "      <td>0.513006</td>\n",
              "      <td>0.510747</td>\n",
              "      <td>0.508877</td>\n",
              "      <td>0.504673</td>\n",
              "      <td>0.500469</td>\n",
              "      <td>0.493742</td>\n",
              "      <td>0.492824</td>\n",
              "      <td>0.494009</td>\n",
              "      <td>0.497931</td>\n",
              "      <td>0.501853</td>\n",
              "      <td>0.499665</td>\n",
              "      <td>0.497365</td>\n",
              "      <td>0.497365</td>\n",
              "      <td>0.493444</td>\n",
              "      <td>0.497365</td>\n",
              "      <td>0.497365</td>\n",
              "      <td>0.500722</td>\n",
              "      <td>0.502962</td>\n",
              "      <td>0.502679</td>\n",
              "      <td>0.505202</td>\n",
              "      <td>0.508840</td>\n",
              "      <td>0.511914</td>\n",
              "      <td>0.515553</td>\n",
              "      <td>0.511631</td>\n",
              "      <td>0.511631</td>\n",
              "      <td>0.510232</td>\n",
              "      <td>0.512734</td>\n",
              "      <td>0.513871</td>\n",
              "      <td>0.515843</td>\n",
              "      <td>birds</td>\n",
              "    </tr>\n",
              "  </tbody>\n",
              "</table>\n",
              "<p>5 rows × 22501 columns</p>\n",
              "</div>"
            ],
            "text/plain": [
              "          0         1         2         3  ...     22497     22498     22499  Target\n",
              "0  0.569906  0.572995  0.570772  0.569073  ...  0.079272  0.064765  0.095171   birds\n",
              "1  0.395459  0.394831  0.397971  0.398475  ...  0.854887  0.852293  0.850377   birds\n",
              "2  0.306123  0.305052  0.305007  0.305007  ...  0.315393  0.367637  0.371525   birds\n",
              "3  0.239297  0.242725  0.243127  0.242356  ...  0.499593  0.278451  0.259563   birds\n",
              "4  0.344216  0.348138  0.351153  0.353741  ...  0.512734  0.513871  0.515843   birds\n",
              "\n",
              "[5 rows x 22501 columns]"
            ]
          },
          "metadata": {
            "tags": []
          },
          "execution_count": 8
        }
      ]
    },
    {
      "cell_type": "code",
      "metadata": {
        "id": "xH_FXwggQ_Tj"
      },
      "source": [
        "# Splitting the data into training and testing sets\n",
        "\n",
        "x = flat_data\n",
        "y = target\n",
        "\n",
        "from sklearn.model_selection import train_test_split\n",
        "x_train, x_test, y_train, y_test = train_test_split(x,y,random_state = 0, stratify = y)"
      ],
      "execution_count": 9,
      "outputs": []
    },
    {
      "cell_type": "markdown",
      "metadata": {
        "id": "qqFyxhxmXhX0"
      },
      "source": [
        "### **3. Classification Algorithm and Best Parameters**\n",
        "- Using the SVM Algorithm for classification\n",
        "- Hyperparameter tuning using GridSearchCV"
      ]
    },
    {
      "cell_type": "code",
      "metadata": {
        "id": "w39oapgkRZD4",
        "colab": {
          "base_uri": "https://localhost:8080/"
        },
        "outputId": "559169af-685a-4d35-a76e-cc98e77af31b"
      },
      "source": [
        "#Hyperparameter Tuning\n",
        "\n",
        "from sklearn.svm import SVC\n",
        "from sklearn.model_selection import GridSearchCV\n",
        "model = SVC()\n",
        "param = {\n",
        "    'kernel':['linear', 'rbf', 'poly'],\n",
        "    'C':[0.1,1,10,100]\n",
        "}\n",
        "\n",
        "grid = GridSearchCV(model, param, cv = 5)\n",
        "grid.fit(x_train, y_train)\n",
        "grid.best_params_"
      ],
      "execution_count": 14,
      "outputs": [
        {
          "output_type": "execute_result",
          "data": {
            "text/plain": [
              "{'C': 0.1, 'kernel': 'poly'}"
            ]
          },
          "metadata": {
            "tags": []
          },
          "execution_count": 14
        }
      ]
    },
    {
      "cell_type": "code",
      "metadata": {
        "colab": {
          "base_uri": "https://localhost:8080/"
        },
        "id": "PgLXZKZBQdvB",
        "outputId": "22f845f9-0c1d-4923-b659-e59742cc3caf"
      },
      "source": [
        "model = SVC(C=0.1,kernel='poly')\n",
        "model.fit(x_train, y_train)"
      ],
      "execution_count": 16,
      "outputs": [
        {
          "output_type": "execute_result",
          "data": {
            "text/plain": [
              "SVC(C=0.1, break_ties=False, cache_size=200, class_weight=None, coef0=0.0,\n",
              "    decision_function_shape='ovr', degree=3, gamma='scale', kernel='poly',\n",
              "    max_iter=-1, probability=False, random_state=None, shrinking=True,\n",
              "    tol=0.001, verbose=False)"
            ]
          },
          "metadata": {
            "tags": []
          },
          "execution_count": 16
        }
      ]
    },
    {
      "cell_type": "code",
      "metadata": {
        "id": "CK8Ei5WNQn3l"
      },
      "source": [
        "y_pred = model.predict(x_test)"
      ],
      "execution_count": 17,
      "outputs": []
    },
    {
      "cell_type": "markdown",
      "metadata": {
        "id": "NkVuP9bzeS38"
      },
      "source": [
        "### **4. Evaluation of Model**\n",
        "- Confusion Matrix\n",
        "- Classification Report"
      ]
    },
    {
      "cell_type": "code",
      "metadata": {
        "colab": {
          "base_uri": "https://localhost:8080/"
        },
        "id": "f03f3nzmQwIX",
        "outputId": "d257f900-0ffc-4818-aa2b-006e2b339fef"
      },
      "source": [
        "from sklearn.metrics import accuracy_score, confusion_matrix, classification_report\n",
        "accuracy_score(y_pred,y_test)"
      ],
      "execution_count": 18,
      "outputs": [
        {
          "output_type": "execute_result",
          "data": {
            "text/plain": [
              "0.9333333333333333"
            ]
          },
          "metadata": {
            "tags": []
          },
          "execution_count": 18
        }
      ]
    },
    {
      "cell_type": "code",
      "metadata": {
        "colab": {
          "base_uri": "https://localhost:8080/"
        },
        "id": "pgwqgwZgQxBv",
        "outputId": "cd5c53b1-7e5c-4fd8-c515-16dfd88e3f45"
      },
      "source": [
        "confusion_matrix(y_pred, y_test)"
      ],
      "execution_count": 19,
      "outputs": [
        {
          "output_type": "execute_result",
          "data": {
            "text/plain": [
              "array([[8, 1],\n",
              "       [0, 6]])"
            ]
          },
          "metadata": {
            "tags": []
          },
          "execution_count": 19
        }
      ]
    },
    {
      "cell_type": "code",
      "metadata": {
        "colab": {
          "base_uri": "https://localhost:8080/"
        },
        "id": "QuaCTKFAQ3Q-",
        "outputId": "e1cc66cd-6dad-44a9-e17c-0c9fe25cb121"
      },
      "source": [
        "print(classification_report(y_pred, y_test))"
      ],
      "execution_count": 20,
      "outputs": [
        {
          "output_type": "stream",
          "text": [
            "              precision    recall  f1-score   support\n",
            "\n",
            "       birds       1.00      0.89      0.94         9\n",
            "        fans       0.86      1.00      0.92         6\n",
            "\n",
            "    accuracy                           0.93        15\n",
            "   macro avg       0.93      0.94      0.93        15\n",
            "weighted avg       0.94      0.93      0.93        15\n",
            "\n"
          ],
          "name": "stdout"
        }
      ]
    },
    {
      "cell_type": "markdown",
      "metadata": {
        "id": "RJLFP9woiVfm"
      },
      "source": [
        "### **5.Predicting for new images**"
      ]
    },
    {
      "cell_type": "code",
      "metadata": {
        "colab": {
          "base_uri": "https://localhost:8080/",
          "height": 286
        },
        "id": "15T3jfksdyEf",
        "outputId": "07138214-3990-4efa-b56d-6b879809ea19"
      },
      "source": [
        "# Considering a new image which is not there in the dataset\n",
        "\n",
        "img_test = imread('/content/drive/MyDrive/datasets/for testing/lovebird.jpg')\n",
        "plt.imshow(img_test)"
      ],
      "execution_count": 21,
      "outputs": [
        {
          "output_type": "execute_result",
          "data": {
            "text/plain": [
              "<matplotlib.image.AxesImage at 0x7effd3081650>"
            ]
          },
          "metadata": {
            "tags": []
          },
          "execution_count": 21
        },
        {
          "output_type": "display_data",
          "data": {
            "image/png": "[encoded data removed]",
            "text/plain": [
              "<Figure size 432x288 with 1 Axes>"
            ]
          },
          "metadata": {
            "tags": [],
            "needs_background": "light"
          }
        }
      ]
    },
    {
      "cell_type": "code",
      "metadata": {
        "colab": {
          "base_uri": "https://localhost:8080/"
        },
        "id": "oPQB3ytvgMdU",
        "outputId": "b95d024a-41cc-4894-c8e8-7d0d8c079dfc"
      },
      "source": [
        "# Preprocessing the new image\n",
        "\n",
        "img_test_resize = resize(img_test, (150,150,3)) # all the images are resized, values get converted to 0-1 from 0-255\n",
        "gray_img_test_resize = rgb2grey(img_test_resize)\n",
        "    \n",
        "processed_img_test = np.ndarray.flatten(gray_img_test_resize)\n",
        "processed_img_test"
      ],
      "execution_count": 22,
      "outputs": [
        {
          "output_type": "execute_result",
          "data": {
            "text/plain": [
              "array([0.99607843, 0.99607843, 0.99607843, ..., 0.99607843, 0.99607843,\n",
              "       0.99607843])"
            ]
          },
          "metadata": {
            "tags": []
          },
          "execution_count": 22
        }
      ]
    },
    {
      "cell_type": "code",
      "metadata": {
        "colab": {
          "base_uri": "https://localhost:8080/"
        },
        "id": "VOMHCdQ9gxNG",
        "outputId": "d1424063-8766-4f38-9859-f710e6f91a7f"
      },
      "source": [
        "# Predicting for the new image\n",
        "\n",
        "model.predict([processed_img_test])"
      ],
      "execution_count": 23,
      "outputs": [
        {
          "output_type": "execute_result",
          "data": {
            "text/plain": [
              "array(['birds'], dtype='<U5')"
            ]
          },
          "metadata": {
            "tags": []
          },
          "execution_count": 23
        }
      ]
    }
  ]
}